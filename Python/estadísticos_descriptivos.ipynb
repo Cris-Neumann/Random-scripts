{
 "cells": [
  {
   "cell_type": "markdown",
   "id": "246f5209",
   "metadata": {},
   "source": [
    "Se crea un diccionario de prueba y se converte en Dataframe:"
   ]
  },
  {
   "cell_type": "code",
   "execution_count": 2,
   "id": "f9be138f",
   "metadata": {
    "ExecuteTime": {
     "end_time": "2022-09-28T03:12:39.095414Z",
     "start_time": "2022-09-28T03:12:39.074451Z"
    }
   },
   "outputs": [],
   "source": [
    "import pandas as pd\n",
    "import numpy as np\n",
    "d = {\n",
    "    'Nombre':pd.Series(['Juan','Pedro','Ricardo','Viviana','Rosa','Soledad','Francisca',\n",
    "   'Leandro','David','Gaspar','Betina','Andrea']),\n",
    "   'Edad':pd.Series([25,26,25,23,30,29,23,34,40,30,51,46]),\n",
    "   'Nota':pd.Series([4.23,3.24,3.98,2.56,3.20,4.6,3.8,3.78,2.98,4.80,4.10,3.65])\n",
    "     }\n",
    "df = pd.DataFrame(d)"
   ]
  },
  {
   "cell_type": "markdown",
   "id": "aca77100",
   "metadata": {},
   "source": [
    "Como ejemplo se obtendrá el promedio de la columna \"Edad\" con la función \"mean\" y redondeamos con la función \"round\":"
   ]
  },
  {
   "cell_type": "code",
   "execution_count": 3,
   "id": "74930d57",
   "metadata": {
    "ExecuteTime": {
     "end_time": "2022-09-28T03:12:42.483391Z",
     "start_time": "2022-09-28T03:12:42.436036Z"
    }
   },
   "outputs": [
    {
     "data": {
      "text/plain": [
       "31.83"
      ]
     },
     "execution_count": 3,
     "metadata": {},
     "output_type": "execute_result"
    }
   ],
   "source": [
    "np.round(df['Edad'].mean(),2)"
   ]
  },
  {
   "cell_type": "markdown",
   "id": "ceb5a02b",
   "metadata": {},
   "source": [
    "Para ser más eficientes, utlizaremos la función \"describe\" para obtener todos los estadísticos descriptivos básicos:"
   ]
  },
  {
   "cell_type": "code",
   "execution_count": 4,
   "id": "e5d3c538",
   "metadata": {
    "ExecuteTime": {
     "end_time": "2022-09-28T03:12:46.409410Z",
     "start_time": "2022-09-28T03:12:46.361132Z"
    }
   },
   "outputs": [
    {
     "data": {
      "text/html": [
       "<div>\n",
       "<style scoped>\n",
       "    .dataframe tbody tr th:only-of-type {\n",
       "        vertical-align: middle;\n",
       "    }\n",
       "\n",
       "    .dataframe tbody tr th {\n",
       "        vertical-align: top;\n",
       "    }\n",
       "\n",
       "    .dataframe thead th {\n",
       "        text-align: right;\n",
       "    }\n",
       "</style>\n",
       "<table border=\"1\" class=\"dataframe\">\n",
       "  <thead>\n",
       "    <tr style=\"text-align: right;\">\n",
       "      <th></th>\n",
       "      <th>Edad</th>\n",
       "      <th>Nota</th>\n",
       "    </tr>\n",
       "  </thead>\n",
       "  <tbody>\n",
       "    <tr>\n",
       "      <th>count</th>\n",
       "      <td>12.000000</td>\n",
       "      <td>12.000000</td>\n",
       "    </tr>\n",
       "    <tr>\n",
       "      <th>mean</th>\n",
       "      <td>31.833333</td>\n",
       "      <td>3.743333</td>\n",
       "    </tr>\n",
       "    <tr>\n",
       "      <th>std</th>\n",
       "      <td>9.232682</td>\n",
       "      <td>0.661628</td>\n",
       "    </tr>\n",
       "    <tr>\n",
       "      <th>min</th>\n",
       "      <td>23.000000</td>\n",
       "      <td>2.560000</td>\n",
       "    </tr>\n",
       "    <tr>\n",
       "      <th>25%</th>\n",
       "      <td>25.000000</td>\n",
       "      <td>3.230000</td>\n",
       "    </tr>\n",
       "    <tr>\n",
       "      <th>50%</th>\n",
       "      <td>29.500000</td>\n",
       "      <td>3.790000</td>\n",
       "    </tr>\n",
       "    <tr>\n",
       "      <th>75%</th>\n",
       "      <td>35.500000</td>\n",
       "      <td>4.132500</td>\n",
       "    </tr>\n",
       "    <tr>\n",
       "      <th>max</th>\n",
       "      <td>51.000000</td>\n",
       "      <td>4.800000</td>\n",
       "    </tr>\n",
       "  </tbody>\n",
       "</table>\n",
       "</div>"
      ],
      "text/plain": [
       "            Edad       Nota\n",
       "count  12.000000  12.000000\n",
       "mean   31.833333   3.743333\n",
       "std     9.232682   0.661628\n",
       "min    23.000000   2.560000\n",
       "25%    25.000000   3.230000\n",
       "50%    29.500000   3.790000\n",
       "75%    35.500000   4.132500\n",
       "max    51.000000   4.800000"
      ]
     },
     "execution_count": 4,
     "metadata": {},
     "output_type": "execute_result"
    }
   ],
   "source": [
    "df.describe()"
   ]
  },
  {
   "cell_type": "markdown",
   "id": "1cafd5d6",
   "metadata": {},
   "source": [
    "También podemos obtener los cuartiles"
   ]
  },
  {
   "cell_type": "code",
   "execution_count": 5,
   "id": "2e9bfacf",
   "metadata": {
    "ExecuteTime": {
     "end_time": "2022-09-28T03:12:52.243929Z",
     "start_time": "2022-09-28T03:12:52.215536Z"
    }
   },
   "outputs": [
    {
     "data": {
      "text/html": [
       "<div>\n",
       "<style scoped>\n",
       "    .dataframe tbody tr th:only-of-type {\n",
       "        vertical-align: middle;\n",
       "    }\n",
       "\n",
       "    .dataframe tbody tr th {\n",
       "        vertical-align: top;\n",
       "    }\n",
       "\n",
       "    .dataframe thead th {\n",
       "        text-align: right;\n",
       "    }\n",
       "</style>\n",
       "<table border=\"1\" class=\"dataframe\">\n",
       "  <thead>\n",
       "    <tr style=\"text-align: right;\">\n",
       "      <th></th>\n",
       "      <th>Edad</th>\n",
       "      <th>Nota</th>\n",
       "    </tr>\n",
       "  </thead>\n",
       "  <tbody>\n",
       "    <tr>\n",
       "      <th>0.25</th>\n",
       "      <td>25.0</td>\n",
       "      <td>3.2300</td>\n",
       "    </tr>\n",
       "    <tr>\n",
       "      <th>0.50</th>\n",
       "      <td>29.5</td>\n",
       "      <td>3.7900</td>\n",
       "    </tr>\n",
       "    <tr>\n",
       "      <th>0.75</th>\n",
       "      <td>35.5</td>\n",
       "      <td>4.1325</td>\n",
       "    </tr>\n",
       "  </tbody>\n",
       "</table>\n",
       "</div>"
      ],
      "text/plain": [
       "      Edad    Nota\n",
       "0.25  25.0  3.2300\n",
       "0.50  29.5  3.7900\n",
       "0.75  35.5  4.1325"
      ]
     },
     "execution_count": 5,
     "metadata": {},
     "output_type": "execute_result"
    }
   ],
   "source": [
    "df[['Edad', 'Nota']].quantile([0.25,0.5,0.75])"
   ]
  },
  {
   "cell_type": "markdown",
   "id": "f6c8b029",
   "metadata": {},
   "source": [
    "Incluso podemos graficar un campo con un gráfico de cajas de la librería matplotlib"
   ]
  },
  {
   "cell_type": "code",
   "execution_count": 7,
   "id": "7b8f8c06",
   "metadata": {
    "ExecuteTime": {
     "end_time": "2022-09-28T03:13:33.991308Z",
     "start_time": "2022-09-28T03:13:33.901117Z"
    }
   },
   "outputs": [
    {
     "data": {
      "image/png": "[encoded data removed]",
      "text/plain": [
       "<Figure size 432x288 with 1 Axes>"
      ]
     },
     "metadata": {
      "needs_background": "light"
     },
     "output_type": "display_data"
    }
   ],
   "source": [
    "import matplotlib.pyplot as plt\n",
    "plot = df[['Edad']]\n",
    "plot.boxplot()\n",
    "plt.show()"
   ]
  },
  {
   "cell_type": "markdown",
   "id": "1694048f",
   "metadata": {},
   "source": [
    "Ahora probamos con otro tipo de gráfico, en particular uno de dispersión entre los campos \"Edad\" y \"Nota"
   ]
  },
  {
   "cell_type": "code",
   "execution_count": 8,
   "id": "6f25b280",
   "metadata": {
    "ExecuteTime": {
     "end_time": "2022-09-28T03:13:59.266197Z",
     "start_time": "2022-09-28T03:13:59.028027Z"
    }
   },
   "outputs": [
    {
     "data": {
      "image/png": "[encoded data removed]",
      "text/plain": [
       "<Figure size 432x288 with 1 Axes>"
      ]
     },
     "metadata": {
      "needs_background": "light"
     },
     "output_type": "display_data"
    }
   ],
   "source": [
    "df.plot.scatter(x='Edad', y='Nota')\n",
    "plt.show()"
   ]
  }
 ],
 "metadata": {
  "kernelspec": {
   "display_name": "Python 3 (ipykernel)",
   "language": "python",
   "name": "python3"
  },
  "language_info": {
   "codemirror_mode": {
    "name": "ipython",
    "version": 3
   },
   "file_extension": ".py",
   "mimetype": "text/x-python",
   "name": "python",
   "nbconvert_exporter": "python",
   "pygments_lexer": "ipython3",
   "version": "3.8.3"
  }
 },
 "nbformat": 4,
 "nbformat_minor": 5
}
